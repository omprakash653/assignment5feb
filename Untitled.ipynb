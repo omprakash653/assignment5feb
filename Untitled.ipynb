{
 "cells": [
  {
   "cell_type": "markdown",
   "id": "a3d0642d",
   "metadata": {},
   "source": [
    "# Ans1"
   ]
  },
  {
   "cell_type": "code",
   "execution_count": 1,
   "id": "841f09fd",
   "metadata": {},
   "outputs": [
    {
     "name": "stdout",
     "output_type": "stream",
     "text": [
      "welcome here\n"
     ]
    }
   ],
   "source": [
    "# class is a blueprint of object and object is instance of class with the help of object we use code inside the class\n",
    "class ipcs:\n",
    "    def welcome_msg(self):\n",
    "        print(\"welcome here\")\n",
    "ram=ipcs()\n",
    "ram.welcome_msg()"
   ]
  },
  {
   "cell_type": "code",
   "execution_count": 2,
   "id": "e4d95f76",
   "metadata": {},
   "outputs": [],
   "source": [
    "# Here ipcs is class and ram is the object"
   ]
  },
  {
   "cell_type": "markdown",
   "id": "9d46011a",
   "metadata": {},
   "source": [
    "# Ans2"
   ]
  },
  {
   "cell_type": "code",
   "execution_count": 3,
   "id": "9f2d1739",
   "metadata": {},
   "outputs": [],
   "source": [
    "# These four pillars are Inheritance, Polymorphism, Encapsulation and Abstraction.\n"
   ]
  },
  {
   "cell_type": "markdown",
   "id": "da8ad685",
   "metadata": {},
   "source": [
    "# Ans3"
   ]
  },
  {
   "cell_type": "code",
   "execution_count": 5,
   "id": "b4e5b828",
   "metadata": {},
   "outputs": [],
   "source": [
    "class man:                   \n",
    " \n",
    "    def __init__(self,dogBreed,dogEyeColor):\n",
    "  \n",
    "       self.breed = dogBreed       \n",
    "       self.eyeColor = dogEyeColor"
   ]
  },
  {
   "cell_type": "code",
   "execution_count": 6,
   "id": "cfc5cf26",
   "metadata": {},
   "outputs": [],
   "source": [
    "# The constructor is used in the class to initialize data members to the object.\n",
    "# With our man class example, you can use a constructor to assign man characteristics to each Fox Terrier object.\n",
    "# The special method __init__ is the Python constructor."
   ]
  },
  {
   "cell_type": "markdown",
   "id": "3a225fdf",
   "metadata": {},
   "source": [
    "# Ans4"
   ]
  },
  {
   "cell_type": "code",
   "execution_count": 7,
   "id": "9fe2bc57",
   "metadata": {},
   "outputs": [],
   "source": [
    "# The self variable is used to represent the instance of the class which is often used in object-oriented programming. \n",
    "# It works as a reference to the object. \n",
    "# Python uses the self parameter to refer to instance attributes and methods of the class.  "
   ]
  },
  {
   "cell_type": "markdown",
   "id": "f180804a",
   "metadata": {},
   "source": [
    "# Ans5"
   ]
  },
  {
   "cell_type": "code",
   "execution_count": 1,
   "id": "9e839852",
   "metadata": {},
   "outputs": [],
   "source": [
    "# Inheritance allows us to define a class that inherits all the methods and properties from another class.\n",
    "# child class inherit the property of parent class."
   ]
  },
  {
   "cell_type": "code",
   "execution_count": 2,
   "id": "53bf819d",
   "metadata": {},
   "outputs": [
    {
     "name": "stdout",
     "output_type": "stream",
     "text": [
      "This function is in parent class.\n",
      "This function is in child class.\n"
     ]
    }
   ],
   "source": [
    "\n",
    "# single inheritance\n",
    "\n",
    "class Parent:\n",
    "\tdef func1(self):\n",
    "\t\tprint(\"This function is in parent class.\")\n",
    "\n",
    "\n",
    "class Child(Parent):\n",
    "\tdef func2(self):\n",
    "\t\tprint(\"This function is in child class.\")\n",
    "\n",
    "\n",
    "\n",
    "object = Child()\n",
    "object.func1()\n",
    "object.func2()\n"
   ]
  },
  {
   "cell_type": "code",
   "execution_count": 3,
   "id": "a34b761e",
   "metadata": {},
   "outputs": [
    {
     "name": "stdout",
     "output_type": "stream",
     "text": [
      "Father : RAM\n",
      "Mother : SITA\n"
     ]
    }
   ],
   "source": [
    "\n",
    "# multiple inheritance\n",
    "\n",
    "class Mother:\n",
    "\tmothername = \"\"\n",
    "\n",
    "\tdef mother(self):\n",
    "\t\tprint(self.mothername)\n",
    "\n",
    "\n",
    "class Father:\n",
    "\tfathername = \"\"\n",
    "\n",
    "\tdef father(self):\n",
    "\t\tprint(self.fathername)\n",
    "\n",
    "\n",
    "class Son(Mother, Father):\n",
    "\tdef parents(self):\n",
    "\t\tprint(\"Father :\", self.fathername)\n",
    "\t\tprint(\"Mother :\", self.mothername)\n",
    "\n",
    "s1 = Son()\n",
    "s1.fathername = \"RAM\"\n",
    "s1.mothername = \"SITA\"\n",
    "s1.parents()\n"
   ]
  },
  {
   "cell_type": "code",
   "execution_count": 4,
   "id": "e9f5ea3e",
   "metadata": {},
   "outputs": [
    {
     "name": "stdout",
     "output_type": "stream",
     "text": [
      "Lal mani\n",
      "Grandfather name : Lal mani\n",
      "Father name : Rampal\n",
      "Son name : Prince\n"
     ]
    }
   ],
   "source": [
    "\n",
    "# multilevel inheritance\n",
    "\n",
    "\n",
    "class Grandfather:\n",
    "\n",
    "\tdef __init__(self, grandfathername):\n",
    "\t\tself.grandfathername = grandfathername\n",
    "\n",
    "\n",
    "class Father(Grandfather):\n",
    "\tdef __init__(self, fathername, grandfathername):\n",
    "\t\tself.fathername = fathername\n",
    "\n",
    "\t\tGrandfather.__init__(self, grandfathername)\n",
    "\n",
    "\n",
    "class Son(Father):\n",
    "\tdef __init__(self, sonname, fathername, grandfathername):\n",
    "\t\tself.sonname = sonname\n",
    "\n",
    "\t\tFather.__init__(self, fathername, grandfathername)\n",
    "\n",
    "\tdef print_name(self):\n",
    "\t\tprint('Grandfather name :', self.grandfathername)\n",
    "\t\tprint(\"Father name :\", self.fathername)\n",
    "\t\tprint(\"Son name :\", self.sonname)\n",
    "\n",
    "s1 = Son('Prince', 'Rampal', 'Lal mani')\n",
    "print(s1.grandfathername)\n",
    "s1.print_name()\n"
   ]
  },
  {
   "cell_type": "code",
   "execution_count": 5,
   "id": "a7c128e4",
   "metadata": {},
   "outputs": [
    {
     "name": "stdout",
     "output_type": "stream",
     "text": [
      "This function is in parent class.\n",
      "This function is in child 1.\n",
      "This function is in parent class.\n",
      "This function is in child 2.\n"
     ]
    }
   ],
   "source": [
    "\n",
    "# Hierarchical inheritance\n",
    "\n",
    "class Parent:\n",
    "\tdef func1(self):\n",
    "\t\tprint(\"This function is in parent class.\")\n",
    "\n",
    "\n",
    "class Child1(Parent):\n",
    "\tdef func2(self):\n",
    "\t\tprint(\"This function is in child 1.\")\n",
    "\n",
    "\n",
    "class Child2(Parent):\n",
    "\tdef func3(self):\n",
    "\t\tprint(\"This function is in child 2.\")\n",
    "\n",
    "object1 = Child1()\n",
    "object2 = Child2()\n",
    "object1.func1()\n",
    "object1.func2()\n",
    "object2.func1()\n",
    "object2.func3()\n"
   ]
  },
  {
   "cell_type": "code",
   "execution_count": null,
   "id": "b8dbb1e6",
   "metadata": {},
   "outputs": [],
   "source": []
  }
 ],
 "metadata": {
  "kernelspec": {
   "display_name": "Python 3 (ipykernel)",
   "language": "python",
   "name": "python3"
  },
  "language_info": {
   "codemirror_mode": {
    "name": "ipython",
    "version": 3
   },
   "file_extension": ".py",
   "mimetype": "text/x-python",
   "name": "python",
   "nbconvert_exporter": "python",
   "pygments_lexer": "ipython3",
   "version": "3.11.1"
  }
 },
 "nbformat": 4,
 "nbformat_minor": 5
}
